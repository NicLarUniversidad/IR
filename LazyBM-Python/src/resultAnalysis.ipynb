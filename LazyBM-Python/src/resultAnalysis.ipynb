{
 "cells": [
  {
   "cell_type": "markdown",
   "source": [
    "Import de librerías"
   ],
   "metadata": {
    "collapsed": false
   },
   "id": "2963f8f836c388a7"
  },
  {
   "cell_type": "code",
   "execution_count": null,
   "id": "initial_id",
   "metadata": {
    "collapsed": true
   },
   "outputs": [],
   "source": [
    "import json\n",
    "import pandas as pd\n",
    "from matplotlib import pyplot as plt"
   ]
  },
  {
   "cell_type": "markdown",
   "source": [
    "Carga de archivo"
   ],
   "metadata": {
    "collapsed": false
   },
   "id": "f31300c48f0a7203"
  },
  {
   "cell_type": "code",
   "outputs": [],
   "source": [
    "f = open(\"results.txt\", \"r\")\n",
    "\n",
    "lines = f.readlines()\n",
    "lazyBmData = []\n",
    "maxScoreData = []\n",
    "wandData = []\n",
    "for line in lines:\n",
    "    dataRow = json.loads(line)\n",
    "    lazyBmData.append(dataRow[\"LAZY_BM\"])\n",
    "    maxScoreData.append(dataRow[\"BLOCK_MAX_MAX_SCORE\"])\n",
    "    wandData.append(dataRow[\"BLOCK_MAX_WAND\"])\n",
    "    \n",
    "f.close()\n",
    "lazyBmResults = pd.DataFrame(lazyBmData)\n",
    "maxScoreResults = pd.DataFrame(maxScoreData)\n",
    "wandResults = pd.DataFrame(wandData)"
   ],
   "metadata": {
    "collapsed": false
   },
   "id": "ade20b6808bdfa6c",
   "execution_count": null
  },
  {
   "cell_type": "code",
   "outputs": [],
   "source": [
    "lazyBmResults"
   ],
   "metadata": {
    "collapsed": false
   },
   "id": "3fa309730ee886c7",
   "execution_count": null
  },
  {
   "cell_type": "code",
   "outputs": [],
   "source": [
    "maxScoreResults"
   ],
   "metadata": {
    "collapsed": false
   },
   "id": "7e1153e5a77beea7",
   "execution_count": null
  },
  {
   "cell_type": "code",
   "outputs": [],
   "source": [
    "wandResults"
   ],
   "metadata": {
    "collapsed": false
   },
   "id": "6b39ebe16ed1a794",
   "execution_count": null
  },
  {
   "cell_type": "code",
   "outputs": [],
   "source": [
    "lazyBmResults.drop(\"posting_list_sizes\", axis=1)\n",
    "maxScoreResults.drop(\"posting_list_sizes\", axis=1)\n",
    "wandResults.drop(\"posting_list_sizes\", axis=1)"
   ],
   "metadata": {
    "collapsed": false
   },
   "id": "69bbcc3aadbf2179",
   "execution_count": null
  },
  {
   "cell_type": "code",
   "outputs": [],
   "source": [
    "meansLazyBmResults = lazyBmResults.loc[:, 'block_read'].mean()\n",
    "meanMaxScoreResults = maxScoreResults.loc[:, 'block_read'].mean()\n",
    "meanWandResults = wandResults.loc[:, 'block_read'].mean()\n",
    "\n",
    "meanBlockRead = [meansLazyBmResults, meanMaxScoreResults, meanWandResults]\n",
    "\n",
    "plt.bar([\"LazyBm\", \"MaxScore\", \"WAND\"],meanBlockRead)\n",
    "print(meanBlockRead)"
   ],
   "metadata": {
    "collapsed": false
   },
   "id": "f4539e6ed9dc4c9c",
   "execution_count": null
  },
  {
   "cell_type": "code",
   "outputs": [],
   "source": [
    "columnName = \"doc_id_skipped\"\n",
    "\n",
    "def barPlot(columnName):\n",
    "    meansLazyBmResults = lazyBmResults.loc[:, columnName].mean()\n",
    "    meanMaxScoreResults = maxScoreResults.loc[:, columnName].mean()\n",
    "    meanWandResults = wandResults.loc[:, columnName].mean()\n",
    "    \n",
    "    meanBlockRead = [meansLazyBmResults, meanMaxScoreResults, meanWandResults]\n",
    "    \n",
    "    plt.bar([\"LazyBm\", \"MaxScore\", \"WAND\"],meanBlockRead)\n",
    "    print(meanBlockRead)\n",
    "\n",
    "barPlot(columnName)"
   ],
   "metadata": {
    "collapsed": false
   },
   "id": "f9a129a5421ef427",
   "execution_count": null
  },
  {
   "cell_type": "code",
   "outputs": [],
   "source": [
    "barPlot(\"doc_id_skipped_with_ub\")"
   ],
   "metadata": {
    "collapsed": false
   },
   "id": "1469c0a6da07ad31",
   "execution_count": null
  },
  {
   "cell_type": "code",
   "outputs": [],
   "source": [
    "barPlot(\"process_time\")"
   ],
   "metadata": {
    "collapsed": false
   },
   "id": "deaaadbbb157ae98",
   "execution_count": null
  },
  {
   "cell_type": "code",
   "outputs": [],
   "source": [
    "plt.scatter(maxScoreResults[\"max_posting_size\"], maxScoreResults[\"doc_id_skipped\"], color=\"b\")\n",
    "plt.scatter(lazyBmResults[\"max_posting_size\"], lazyBmResults[\"doc_id_skipped\"], color=\"r\")\n",
    "plt.ylim(0, 100)"
   ],
   "metadata": {
    "collapsed": false
   },
   "id": "916e56d21f80decb",
   "execution_count": null
  },
  {
   "cell_type": "code",
   "outputs": [],
   "source": [
    "plt.scatter(maxScoreResults[\"max_posting_size\"], maxScoreResults[\"doc_id_skipped\"], color=\"r\")\n",
    "plt.scatter(lazyBmResults[\"max_posting_size\"], lazyBmResults[\"doc_id_skipped\"], color=\"c\")\n",
    "plt.xlim(10000, 1000000)"
   ],
   "metadata": {
    "collapsed": false
   },
   "id": "ce9aedbaca900f9b",
   "execution_count": null
  },
  {
   "cell_type": "code",
   "outputs": [],
   "source": [
    "docIdSkippedDif = lazyBmResults[\"doc_id_skipped\"] - maxScoreResults[\"doc_id_skipped\"]\n",
    "\n",
    "plt.scatter( range(len(docIdSkippedDif)), docIdSkippedDif)\n",
    "plt.ylim(-500, 500)"
   ],
   "metadata": {
    "collapsed": false
   },
   "id": "7b5577b796d89ff7",
   "execution_count": null
  }
 ],
 "metadata": {
  "kernelspec": {
   "display_name": "Python 3",
   "language": "python",
   "name": "python3"
  },
  "language_info": {
   "codemirror_mode": {
    "name": "ipython",
    "version": 2
   },
   "file_extension": ".py",
   "mimetype": "text/x-python",
   "name": "python",
   "nbconvert_exporter": "python",
   "pygments_lexer": "ipython2",
   "version": "2.7.6"
  }
 },
 "nbformat": 4,
 "nbformat_minor": 5
}
