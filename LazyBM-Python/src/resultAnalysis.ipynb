{
 "cells": [
  {
   "cell_type": "markdown",
   "source": [
    "Import de librerías"
   ],
   "metadata": {
    "collapsed": false
   },
   "id": "2963f8f836c388a7"
  },
  {
   "cell_type": "code",
   "execution_count": null,
   "id": "initial_id",
   "metadata": {
    "collapsed": true
   },
   "outputs": [],
   "source": [
    "import json\n",
    "import pandas as pd\n",
    "from matplotlib import pyplot as plt"
   ]
  },
  {
   "cell_type": "markdown",
   "source": [
    "Carga de archivo"
   ],
   "metadata": {
    "collapsed": false
   },
   "id": "f31300c48f0a7203"
  },
  {
   "cell_type": "code",
   "outputs": [],
   "source": [
    "f = open(\"results.txt\", \"r\")\n",
    "\n",
    "lines = f.readlines()\n",
    "lazyBmData = []\n",
    "maxScoreData = []\n",
    "wandData = []\n",
    "for line in lines:\n",
    "    dataRow = json.loads(line)\n",
    "    lazyBmData.append(dataRow[\"LAZY_BM\"])\n",
    "    maxScoreData.append(dataRow[\"BLOCK_MAX_MAX_SCORE\"])\n",
    "    wandData.append(dataRow[\"BLOCK_MAX_WAND\"])\n",
    "    \n",
    "f.close()\n",
    "lazyBmResults = pd.DataFrame(lazyBmData)\n",
    "maxScoreResults = pd.DataFrame(maxScoreData)\n",
    "wandResults = pd.DataFrame(wandData)"
   ],
   "metadata": {
    "collapsed": false
   },
   "id": "ade20b6808bdfa6c",
   "execution_count": null
  },
  {
   "cell_type": "code",
   "outputs": [],
   "source": [
    "lazyBmResults"
   ],
   "metadata": {
    "collapsed": false
   },
   "id": "3fa309730ee886c7",
   "execution_count": null
  },
  {
   "cell_type": "code",
   "outputs": [],
   "source": [
    "maxScoreResults"
   ],
   "metadata": {
    "collapsed": false
   },
   "id": "7e1153e5a77beea7",
   "execution_count": null
  },
  {
   "cell_type": "code",
   "outputs": [],
   "source": [
    "wandResults"
   ],
   "metadata": {
    "collapsed": false
   },
   "id": "6b39ebe16ed1a794",
   "execution_count": null
  },
  {
   "cell_type": "code",
   "outputs": [],
   "source": [
    "meansLazyBmResults = lazyBmResults.mean(axis=0)\n",
    "meanMaxScoreResults = maxScoreResults.mean(axis=0)\n",
    "meanWandResults = wandResults.mean(axis=0)\n",
    "\n",
    "meanBlockRead = [meansLazyBmResults[\"blocks_read\"], meanMaxScoreResults[\"blocks_read\"], meanWandResults[\"blocks_read\"]]\n",
    "\n",
    "plt.bar([\"LazyBm\", \"MaxScore\", \"WAND\"],meanBlockRead)\n",
    "print(meanBlockRead)"
   ],
   "metadata": {
    "collapsed": false
   },
   "id": "f4539e6ed9dc4c9c",
   "execution_count": null
  },
  {
   "cell_type": "code",
   "outputs": [],
   "source": [
    "meanDocIdSkipped = [meansLazyBmResults[\"doc_id_skipped\"], meanMaxScoreResults[\"doc_id_skipped\"], meanWandResults[\"doc_id_skipped\"]]\n",
    "plt.bar([\"LazyBm\", \"MaxScore\", \"WAND\"],meanDocIdSkipped)\n",
    "print(meanDocIdSkipped)"
   ],
   "metadata": {
    "collapsed": false
   },
   "id": "f9a129a5421ef427",
   "execution_count": null
  },
  {
   "cell_type": "code",
   "outputs": [],
   "source": [
    "meanBlockSkippedWithUb = [meansLazyBmResults[\"doc_id_skipped_with_ub\"], meanMaxScoreResults[\"doc_id_skipped_with_ub\"], meanWandResults[\"doc_id_skipped_with_ub\"]]\n",
    "plt.bar([\"LazyBm\", \"MaxScore\", \"WAND\"],meanBlockSkippedWithUb)\n",
    "print(meanBlockSkippedWithUb)"
   ],
   "metadata": {
    "collapsed": false
   },
   "id": "1469c0a6da07ad31",
   "execution_count": null
  },
  {
   "cell_type": "code",
   "outputs": [],
   "source": [
    "meanProcessTime = [meansLazyBmResults[\"process_time\"], meanMaxScoreResults[\"process_time\"], meanWandResults[\"process_time\"]]\n",
    "plt.bar([\"LazyBm\", \"MaxScore\", \"WAND\"],meanProcessTime)\n",
    "print(meanProcessTime)"
   ],
   "metadata": {
    "collapsed": false
   },
   "id": "deaaadbbb157ae98",
   "execution_count": null
  }
 ],
 "metadata": {
  "kernelspec": {
   "display_name": "Python 3",
   "language": "python",
   "name": "python3"
  },
  "language_info": {
   "codemirror_mode": {
    "name": "ipython",
    "version": 2
   },
   "file_extension": ".py",
   "mimetype": "text/x-python",
   "name": "python",
   "nbconvert_exporter": "python",
   "pygments_lexer": "ipython2",
   "version": "2.7.6"
  }
 },
 "nbformat": 4,
 "nbformat_minor": 5
}
